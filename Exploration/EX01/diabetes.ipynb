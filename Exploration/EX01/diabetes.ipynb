{
  "nbformat": 4,
  "nbformat_minor": 0,
  "metadata": {
    "colab": {
      "provenance": []
    },
    "kernelspec": {
      "name": "python3",
      "display_name": "Python 3"
    },
    "language_info": {
      "name": "python"
    }
  },
  "cells": [
    {
      "cell_type": "code",
      "execution_count": null,
      "metadata": {
        "id": "Ys3JBKwSKch6"
      },
      "outputs": [],
      "source": [
        "from sklearn.datasets import load_diabetes\n",
        "import numpy as np\n",
        "import pandas as pd\n",
        "from sklearn.model_selection import train_test_split\n",
        "import seaborn as sns\n",
        "import matplotlib.pyplot as plt"
      ]
    },
    {
      "cell_type": "code",
      "source": [
        "# 1\n",
        "diabetes = load_diabetes()\n",
        "X = diabetes.data\n",
        "y = diabetes.target"
      ],
      "metadata": {
        "id": "M8VIfJaNLDgO"
      },
      "execution_count": null,
      "outputs": []
    },
    {
      "cell_type": "code",
      "source": [
        "# 2, 3\n",
        "print(type(X))\n",
        "print(type(y))"
      ],
      "metadata": {
        "colab": {
          "base_uri": "https://localhost:8080/"
        },
        "id": "JDuUgCS5MJ1a",
        "outputId": "d5c50013-c2e2-4261-9c6c-8fba1968b8d0"
      },
      "execution_count": null,
      "outputs": [
        {
          "output_type": "stream",
          "name": "stdout",
          "text": [
            "<class 'numpy.ndarray'>\n",
            "<class 'numpy.ndarray'>\n"
          ]
        }
      ]
    },
    {
      "cell_type": "code",
      "source": [
        "# 4\n",
        "X_train, X_test, y_train, y_test = train_test_split(X, y, test_size=0.2, random_state=42)"
      ],
      "metadata": {
        "id": "KBkuBs_tNTdw"
      },
      "execution_count": null,
      "outputs": []
    },
    {
      "cell_type": "code",
      "source": [
        "X_train.shape[1]"
      ],
      "metadata": {
        "colab": {
          "base_uri": "https://localhost:8080/"
        },
        "id": "xnkTr7a_OHYG",
        "outputId": "4dd3c49c-7cc6-413d-ce55-41e48127f8a9"
      },
      "execution_count": null,
      "outputs": [
        {
          "output_type": "execute_result",
          "data": {
            "text/plain": [
              "10"
            ]
          },
          "metadata": {},
          "execution_count": 5
        }
      ]
    },
    {
      "cell_type": "code",
      "source": [
        "# 5\n",
        "W = np.random.rand(10)\n",
        "b = np.random.rand()"
      ],
      "metadata": {
        "id": "641V0mdqONdM"
      },
      "execution_count": null,
      "outputs": []
    },
    {
      "cell_type": "code",
      "source": [
        "# 5\n",
        "def model(X, W, b):\n",
        "    y_pred = 0\n",
        "    for i in range(10):\n",
        "        y_pred += X[:, i] * W[i]\n",
        "    y_pred += b\n",
        "    return y_pred"
      ],
      "metadata": {
        "id": "z4kboobqTDKh"
      },
      "execution_count": null,
      "outputs": []
    },
    {
      "cell_type": "code",
      "source": [
        "# 6\n",
        "def MSE(pred, real):\n",
        "    mse = ((pred - real) ** 2).mean()  # 두 값의 차이의 제곱의 평균\n",
        "    return mse\n",
        "\n",
        "def loss(X, W, b, y):\n",
        "    y_pred = model(X, W, b)\n",
        "    L = MSE(y_pred, y)\n",
        "    return L"
      ],
      "metadata": {
        "id": "i7pl0Z9dTJaf"
      },
      "execution_count": null,
      "outputs": []
    },
    {
      "cell_type": "code",
      "source": [
        "# 7\n",
        "def gradient(X, W, b, y):\n",
        "    N = len(y)\n",
        "\n",
        "    y_pred = model(X, W, b)\n",
        "\n",
        "    dW = 1/N * 2 * X.T.dot(y_pred - y)\n",
        "    db = 2 * (y_pred - y).mean()\n",
        "    return dW, db"
      ],
      "metadata": {
        "id": "SBrnguszTlnk"
      },
      "execution_count": null,
      "outputs": []
    },
    {
      "cell_type": "code",
      "source": [
        "# 8\n",
        "lr = 0.2"
      ],
      "metadata": {
        "id": "2O8suLfvTznS"
      },
      "execution_count": null,
      "outputs": []
    },
    {
      "cell_type": "code",
      "source": [
        "# 9\n",
        "losses = []\n",
        "\n",
        "for i in range(1, 2001):\n",
        "    dW, db = gradient(X_train, W, b, y_train)\n",
        "    W -= lr * dW\n",
        "    b -= lr * db\n",
        "    L = loss(X_train, W, b, y_train)\n",
        "    losses.append(L)\n",
        "    if i % 10 == 0:\n",
        "        print('Iteration %d : Loss %0.4f' % (i, L))"
      ],
      "metadata": {
        "colab": {
          "base_uri": "https://localhost:8080/"
        },
        "id": "y7HcJczLUUj-",
        "outputId": "f12320eb-3e73-4544-c381-19381a0126e0"
      },
      "execution_count": null,
      "outputs": [
        {
          "output_type": "stream",
          "name": "stdout",
          "text": [
            "Iteration 10 : Loss 5907.4433\n",
            "Iteration 20 : Loss 5761.6190\n",
            "Iteration 30 : Loss 5625.4797\n",
            "Iteration 40 : Loss 5497.5825\n",
            "Iteration 50 : Loss 5377.3788\n",
            "Iteration 60 : Loss 5264.3577\n",
            "Iteration 70 : Loss 5158.0433\n",
            "Iteration 80 : Loss 5057.9923\n",
            "Iteration 90 : Loss 4963.7918\n",
            "Iteration 100 : Loss 4875.0572\n",
            "Iteration 110 : Loss 4791.4302\n",
            "Iteration 120 : Loss 4712.5769\n",
            "Iteration 130 : Loss 4638.1863\n",
            "Iteration 140 : Loss 4567.9685\n",
            "Iteration 150 : Loss 4501.6535\n",
            "Iteration 160 : Loss 4438.9896\n",
            "Iteration 170 : Loss 4379.7420\n",
            "Iteration 180 : Loss 4323.6923\n",
            "Iteration 190 : Loss 4270.6364\n",
            "Iteration 200 : Loss 4220.3843\n",
            "Iteration 210 : Loss 4172.7589\n",
            "Iteration 220 : Loss 4127.5949\n",
            "Iteration 230 : Loss 4084.7381\n",
            "Iteration 240 : Loss 4044.0449\n",
            "Iteration 250 : Loss 4005.3811\n",
            "Iteration 260 : Loss 3968.6216\n",
            "Iteration 270 : Loss 3933.6498\n",
            "Iteration 280 : Loss 3900.3567\n",
            "Iteration 290 : Loss 3868.6406\n",
            "Iteration 300 : Loss 3838.4067\n",
            "Iteration 310 : Loss 3809.5662\n",
            "Iteration 320 : Loss 3782.0366\n",
            "Iteration 330 : Loss 3755.7404\n",
            "Iteration 340 : Loss 3730.6056\n",
            "Iteration 350 : Loss 3706.5646\n",
            "Iteration 360 : Loss 3683.5545\n",
            "Iteration 370 : Loss 3661.5163\n",
            "Iteration 380 : Loss 3640.3949\n",
            "Iteration 390 : Loss 3620.1388\n",
            "Iteration 400 : Loss 3600.6999\n",
            "Iteration 410 : Loss 3582.0331\n",
            "Iteration 420 : Loss 3564.0961\n",
            "Iteration 430 : Loss 3546.8496\n",
            "Iteration 440 : Loss 3530.2566\n",
            "Iteration 450 : Loss 3514.2823\n",
            "Iteration 460 : Loss 3498.8945\n",
            "Iteration 470 : Loss 3484.0626\n",
            "Iteration 480 : Loss 3469.7582\n",
            "Iteration 490 : Loss 3455.9546\n",
            "Iteration 500 : Loss 3442.6267\n",
            "Iteration 510 : Loss 3429.7510\n",
            "Iteration 520 : Loss 3417.3053\n",
            "Iteration 530 : Loss 3405.2689\n",
            "Iteration 540 : Loss 3393.6224\n",
            "Iteration 550 : Loss 3382.3475\n",
            "Iteration 560 : Loss 3371.4268\n",
            "Iteration 570 : Loss 3360.8443\n",
            "Iteration 580 : Loss 3350.5846\n",
            "Iteration 590 : Loss 3340.6334\n",
            "Iteration 600 : Loss 3330.9771\n",
            "Iteration 610 : Loss 3321.6032\n",
            "Iteration 620 : Loss 3312.4994\n",
            "Iteration 630 : Loss 3303.6545\n",
            "Iteration 640 : Loss 3295.0578\n",
            "Iteration 650 : Loss 3286.6992\n",
            "Iteration 660 : Loss 3278.5691\n",
            "Iteration 670 : Loss 3270.6585\n",
            "Iteration 680 : Loss 3262.9589\n",
            "Iteration 690 : Loss 3255.4622\n",
            "Iteration 700 : Loss 3248.1607\n",
            "Iteration 710 : Loss 3241.0472\n",
            "Iteration 720 : Loss 3234.1148\n",
            "Iteration 730 : Loss 3227.3570\n",
            "Iteration 740 : Loss 3220.7675\n",
            "Iteration 750 : Loss 3214.3406\n",
            "Iteration 760 : Loss 3208.0706\n",
            "Iteration 770 : Loss 3201.9522\n",
            "Iteration 780 : Loss 3195.9803\n",
            "Iteration 790 : Loss 3190.1501\n",
            "Iteration 800 : Loss 3184.4571\n",
            "Iteration 810 : Loss 3178.8968\n",
            "Iteration 820 : Loss 3173.4651\n",
            "Iteration 830 : Loss 3168.1579\n",
            "Iteration 840 : Loss 3162.9715\n",
            "Iteration 850 : Loss 3157.9022\n",
            "Iteration 860 : Loss 3152.9466\n",
            "Iteration 870 : Loss 3148.1012\n",
            "Iteration 880 : Loss 3143.3630\n",
            "Iteration 890 : Loss 3138.7288\n",
            "Iteration 900 : Loss 3134.1956\n",
            "Iteration 910 : Loss 3129.7608\n",
            "Iteration 920 : Loss 3125.4215\n",
            "Iteration 930 : Loss 3121.1751\n",
            "Iteration 940 : Loss 3117.0192\n",
            "Iteration 950 : Loss 3112.9514\n",
            "Iteration 960 : Loss 3108.9693\n",
            "Iteration 970 : Loss 3105.0707\n",
            "Iteration 980 : Loss 3101.2534\n",
            "Iteration 990 : Loss 3097.5154\n",
            "Iteration 1000 : Loss 3093.8547\n",
            "Iteration 1010 : Loss 3090.2693\n",
            "Iteration 1020 : Loss 3086.7574\n",
            "Iteration 1030 : Loss 3083.3171\n",
            "Iteration 1040 : Loss 3079.9468\n",
            "Iteration 1050 : Loss 3076.6447\n",
            "Iteration 1060 : Loss 3073.4093\n",
            "Iteration 1070 : Loss 3070.2388\n",
            "Iteration 1080 : Loss 3067.1319\n",
            "Iteration 1090 : Loss 3064.0869\n",
            "Iteration 1100 : Loss 3061.1026\n",
            "Iteration 1110 : Loss 3058.1774\n",
            "Iteration 1120 : Loss 3055.3101\n",
            "Iteration 1130 : Loss 3052.4992\n",
            "Iteration 1140 : Loss 3049.7437\n",
            "Iteration 1150 : Loss 3047.0421\n",
            "Iteration 1160 : Loss 3044.3933\n",
            "Iteration 1170 : Loss 3041.7961\n",
            "Iteration 1180 : Loss 3039.2495\n",
            "Iteration 1190 : Loss 3036.7522\n",
            "Iteration 1200 : Loss 3034.3033\n",
            "Iteration 1210 : Loss 3031.9016\n",
            "Iteration 1220 : Loss 3029.5461\n",
            "Iteration 1230 : Loss 3027.2359\n",
            "Iteration 1240 : Loss 3024.9700\n",
            "Iteration 1250 : Loss 3022.7474\n",
            "Iteration 1260 : Loss 3020.5672\n",
            "Iteration 1270 : Loss 3018.4286\n",
            "Iteration 1280 : Loss 3016.3306\n",
            "Iteration 1290 : Loss 3014.2724\n",
            "Iteration 1300 : Loss 3012.2532\n",
            "Iteration 1310 : Loss 3010.2721\n",
            "Iteration 1320 : Loss 3008.3284\n",
            "Iteration 1330 : Loss 3006.4213\n",
            "Iteration 1340 : Loss 3004.5501\n",
            "Iteration 1350 : Loss 3002.7139\n",
            "Iteration 1360 : Loss 3000.9122\n",
            "Iteration 1370 : Loss 2999.1441\n",
            "Iteration 1380 : Loss 2997.4090\n",
            "Iteration 1390 : Loss 2995.7063\n",
            "Iteration 1400 : Loss 2994.0352\n",
            "Iteration 1410 : Loss 2992.3952\n",
            "Iteration 1420 : Loss 2990.7856\n",
            "Iteration 1430 : Loss 2989.2058\n",
            "Iteration 1440 : Loss 2987.6552\n",
            "Iteration 1450 : Loss 2986.1333\n",
            "Iteration 1460 : Loss 2984.6394\n",
            "Iteration 1470 : Loss 2983.1730\n",
            "Iteration 1480 : Loss 2981.7335\n",
            "Iteration 1490 : Loss 2980.3204\n",
            "Iteration 1500 : Loss 2978.9333\n",
            "Iteration 1510 : Loss 2977.5715\n",
            "Iteration 1520 : Loss 2976.2346\n",
            "Iteration 1530 : Loss 2974.9221\n",
            "Iteration 1540 : Loss 2973.6334\n",
            "Iteration 1550 : Loss 2972.3683\n",
            "Iteration 1560 : Loss 2971.1261\n",
            "Iteration 1570 : Loss 2969.9065\n",
            "Iteration 1580 : Loss 2968.7089\n",
            "Iteration 1590 : Loss 2967.5331\n",
            "Iteration 1600 : Loss 2966.3784\n",
            "Iteration 1610 : Loss 2965.2446\n",
            "Iteration 1620 : Loss 2964.1313\n",
            "Iteration 1630 : Loss 2963.0379\n",
            "Iteration 1640 : Loss 2961.9642\n",
            "Iteration 1650 : Loss 2960.9098\n",
            "Iteration 1660 : Loss 2959.8743\n",
            "Iteration 1670 : Loss 2958.8573\n",
            "Iteration 1680 : Loss 2957.8585\n",
            "Iteration 1690 : Loss 2956.8775\n",
            "Iteration 1700 : Loss 2955.9140\n",
            "Iteration 1710 : Loss 2954.9677\n",
            "Iteration 1720 : Loss 2954.0382\n",
            "Iteration 1730 : Loss 2953.1252\n",
            "Iteration 1740 : Loss 2952.2283\n",
            "Iteration 1750 : Loss 2951.3474\n",
            "Iteration 1760 : Loss 2950.4820\n",
            "Iteration 1770 : Loss 2949.6319\n",
            "Iteration 1780 : Loss 2948.7969\n",
            "Iteration 1790 : Loss 2947.9765\n",
            "Iteration 1800 : Loss 2947.1705\n",
            "Iteration 1810 : Loss 2946.3788\n",
            "Iteration 1820 : Loss 2945.6009\n",
            "Iteration 1830 : Loss 2944.8366\n",
            "Iteration 1840 : Loss 2944.0857\n",
            "Iteration 1850 : Loss 2943.3479\n",
            "Iteration 1860 : Loss 2942.6230\n",
            "Iteration 1870 : Loss 2941.9108\n",
            "Iteration 1880 : Loss 2941.2109\n",
            "Iteration 1890 : Loss 2940.5232\n",
            "Iteration 1900 : Loss 2939.8474\n",
            "Iteration 1910 : Loss 2939.1834\n",
            "Iteration 1920 : Loss 2938.5308\n",
            "Iteration 1930 : Loss 2937.8895\n",
            "Iteration 1940 : Loss 2937.2593\n",
            "Iteration 1950 : Loss 2936.6400\n",
            "Iteration 1960 : Loss 2936.0313\n",
            "Iteration 1970 : Loss 2935.4331\n",
            "Iteration 1980 : Loss 2934.8452\n",
            "Iteration 1990 : Loss 2934.2673\n",
            "Iteration 2000 : Loss 2933.6993\n"
          ]
        }
      ]
    },
    {
      "cell_type": "code",
      "source": [
        "prediction = model(X_test, W, b)\n",
        "mse = loss(X_test, W, b, y_test)\n",
        "mse"
      ],
      "metadata": {
        "colab": {
          "base_uri": "https://localhost:8080/"
        },
        "id": "sxsfdO3bUoBw",
        "outputId": "0baa3e2a-4034-4d41-8dca-a19bff46fcd3"
      },
      "execution_count": null,
      "outputs": [
        {
          "output_type": "execute_result",
          "data": {
            "text/plain": [
              "np.float64(2864.6630171384004)"
            ]
          },
          "metadata": {},
          "execution_count": 21
        }
      ]
    },
    {
      "cell_type": "code",
      "source": [
        "plt.scatter(X_test[:, 0], y_test)\n",
        "plt.scatter(X_test[:, 0], prediction)\n",
        "plt.show()"
      ],
      "metadata": {
        "colab": {
          "base_uri": "https://localhost:8080/",
          "height": 430
        },
        "id": "CcM0Ft13VExL",
        "outputId": "34399ac0-1bf7-4e9d-9824-204e9e37cb8d"
      },
      "execution_count": null,
      "outputs": [
        {
          "output_type": "display_data",
          "data": {
            "text/plain": [
              "<Figure size 640x480 with 1 Axes>"
            ],
            "image/png": "[encoded data removed]"
          },
          "metadata": {}
        }
      ]
    }
  ]
}